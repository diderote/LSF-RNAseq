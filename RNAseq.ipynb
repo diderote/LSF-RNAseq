{
  "cells": [
    {
      "cell_type": "code",
      "source": [
        "import RNAseq as rna\n",
        "rna.display(rna.HTML(rna.html_header()))"
      ],
      "outputs": [],
      "execution_count": null,
      "metadata": {}
    },
    {
      "cell_type": "code",
      "source": [
        "yaml_file = 'RNAseq_experiment_file.yml'"
      ],
      "outputs": [],
      "execution_count": null,
      "metadata": {
        "tags": [
          "parameters"
        ]
      }
    },
    {
      "cell_type": "markdown",
      "source": [
        "## Parse Experimental Data"
      ],
      "metadata": {}
    },
    {
      "cell_type": "code",
      "source": [
        "exp = rna.parse_yaml(yaml_file)"
      ],
      "outputs": [],
      "execution_count": null,
      "metadata": {}
    },
    {
      "cell_type": "markdown",
      "source": [
        "## Staging Files"
      ],
      "metadata": {}
    },
    {
      "cell_type": "code",
      "source": [
        "exp=rna.validated_run('Stage',rna.stage,exp)"
      ],
      "outputs": [],
      "execution_count": null,
      "metadata": {}
    },
    {
      "cell_type": "markdown",
      "source": [
        "## Contamination Screen"
      ],
      "metadata": {}
    },
    {
      "cell_type": "code",
      "source": [
        "exp=rna.validated_run('Fastq_screen',rna.fastq_screen,exp)"
      ],
      "outputs": [],
      "execution_count": null,
      "metadata": {}
    },
    {
      "cell_type": "markdown",
      "source": [
        "## Fastq Trimming"
      ],
      "metadata": {}
    },
    {
      "cell_type": "code",
      "source": [
        "exp=rna.validated_run('Trim',rna.trim,exp)"
      ],
      "outputs": [],
      "execution_count": null,
      "metadata": {}
    },
    {
      "cell_type": "markdown",
      "source": [
        "## FastQC"
      ],
      "metadata": {}
    },
    {
      "cell_type": "code",
      "source": [
        "exp=rna.validated_run('FastQC',rna.fastqc,exp)"
      ],
      "outputs": [],
      "execution_count": null,
      "metadata": {}
    },
    {
      "cell_type": "markdown",
      "source": [
        "## Spike-in Processing"
      ],
      "metadata": {}
    },
    {
      "cell_type": "code",
      "source": [
        "exp=rna.validated_run('Spike',rna.spike,exp)"
      ],
      "outputs": [],
      "execution_count": null,
      "metadata": {}
    },
    {
      "cell_type": "markdown",
      "source": [
        "## STAR Alignemnt"
      ],
      "metadata": {}
    },
    {
      "cell_type": "code",
      "source": [
        "exp=rna.validated_run('STAR',rna.star,exp)\n",
        "exp=rna.validated_run('RSEM',rna.rsem,exp)"
      ],
      "outputs": [],
      "execution_count": null,
      "metadata": {}
    },
    {
      "cell_type": "markdown",
      "source": [
        "## Kallisto Alignment"
      ],
      "metadata": {}
    },
    {
      "cell_type": "code",
      "source": [
        "exp=rna.validated_run('Kallisto',rna.kallisto,exp)"
      ],
      "outputs": [],
      "execution_count": null,
      "metadata": {}
    },
    {
      "cell_type": "markdown",
      "source": [
        "## GC Content Normalization"
      ],
      "metadata": {}
    },
    {
      "cell_type": "code",
      "source": [
        "exp=rna.validated_run('GC',rna.GC_normalization,exp)"
      ],
      "outputs": [],
      "execution_count": null,
      "metadata": {}
    },
    {
      "cell_type": "markdown",
      "source": [
        "## DESeq2 Differential Expression"
      ],
      "metadata": {}
    },
    {
      "cell_type": "code",
      "source": [
        "exp=rna.validated_run('DESeq2',rna.DESeq2,exp)"
      ],
      "outputs": [],
      "execution_count": null,
      "metadata": {}
    },
    {
      "cell_type": "markdown",
      "source": [
        "## Sleuth Differential Expression"
      ],
      "metadata": {}
    },
    {
      "cell_type": "code",
      "source": [
        "exp=rna.validated_run('Sleuth',rna.Sleuth,exp)"
      ],
      "outputs": [],
      "execution_count": null,
      "metadata": {}
    },
    {
      "cell_type": "markdown",
      "source": [
        "## Principal Component Analysis"
      ],
      "metadata": {}
    },
    {
      "cell_type": "code",
      "source": [
        "exp=rna.validated_run('PCA',rna.Principal_Component_Analysis,exp)"
      ],
      "outputs": [],
      "execution_count": null,
      "metadata": {}
    },
    {
      "cell_type": "markdown",
      "source": [
        "## Differential Signature Extraction and Volcano Plots"
      ],
      "metadata": {}
    },
    {
      "cell_type": "code",
      "source": [
        "exp=rna.validated_run('Sigs',rna.sigs,exp)"
      ],
      "outputs": [],
      "execution_count": null,
      "metadata": {}
    },
    {
      "cell_type": "markdown",
      "source": [
        "## Heatmap Generation"
      ],
      "metadata": {}
    },
    {
      "cell_type": "code",
      "source": [
        "exp=rna.validated_run('Heatmaps',rna.clustermap,exp)"
      ],
      "outputs": [],
      "execution_count": null,
      "metadata": {}
    },
    {
      "cell_type": "markdown",
      "source": [
        "## GSEA Analysis"
      ],
      "metadata": {}
    },
    {
      "cell_type": "code",
      "source": [
        "exp=rna.validated_run('GSEA',rna.GSEA,exp)"
      ],
      "outputs": [],
      "execution_count": null,
      "metadata": {}
    },
    {
      "cell_type": "markdown",
      "source": [
        "## Gene Enrichment Analysis"
      ],
      "metadata": {}
    },
    {
      "cell_type": "code",
      "source": [
        "exp=rna.validated_run('GO_enrich',rna.GO_enrich,exp)"
      ],
      "outputs": [],
      "execution_count": null,
      "metadata": {}
    },
    {
      "cell_type": "markdown",
      "source": [
        "## Signature Overlap Comparisons"
      ],
      "metadata": {}
    },
    {
      "cell_type": "code",
      "source": [
        "exp=rna.validated_run('Overlaps',rna.overlaps,exp)"
      ],
      "outputs": [],
      "execution_count": null,
      "metadata": {}
    },
    {
      "cell_type": "markdown",
      "source": [
        "## MultiQC"
      ],
      "metadata": {}
    },
    {
      "cell_type": "code",
      "source": [
        "exp=rna.validated_run('MultiQC',rna.final_qc,exp)"
      ],
      "outputs": [],
      "execution_count": null,
      "metadata": {}
    },
    {
      "cell_type": "markdown",
      "source": [
        "## Clean Analysis Results and Finish"
      ],
      "metadata": {}
    },
    {
      "cell_type": "code",
      "source": [
        "exp=rna.validated_run('Finished',rna.finish,exp)"
      ],
      "outputs": [],
      "execution_count": null,
      "metadata": {}
    }
  ],
  "metadata": {
    "celltoolbar": "Tags",
    "kernelspec": {
      "display_name": "Python 3",
      "language": "python",
      "name": "python3"
    },
    "language_info": {
      "codemirror_mode": {
        "name": "ipython",
        "version": 3
      },
      "file_extension": ".py",
      "mimetype": "text/x-python",
      "name": "python",
      "nbconvert_exporter": "python",
      "pygments_lexer": "ipython3",
      "version": "3.6.5"
    },
    "nteract": {
      "version": "0.11.9"
    }
  },
  "nbformat": 4,
  "nbformat_minor": 2
}